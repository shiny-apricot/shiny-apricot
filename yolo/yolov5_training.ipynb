{
  "cells": [
    {
      "cell_type": "markdown",
      "metadata": {
        "id": "noUZPU2bDcmx"
      },
      "source": [
        "### Colab Link\n",
        "\n",
        "https://colab.research.google.com/drive/1_wlt8_9NnCuFfzV5RjGtYQ0FKwZVZ4wJ?usp=sharing"
      ]
    },
    {
      "cell_type": "markdown",
      "metadata": {
        "id": "cr_8_aSk0zOn"
      },
      "source": [
        "### Clone the original Yolov5 Repo"
      ]
    },
    {
      "cell_type": "code",
      "execution_count": null,
      "metadata": {
        "colab": {
          "base_uri": "https://localhost:8080/"
        },
        "id": "bpxLkYOpe8j1",
        "outputId": "7c75bcb0-2bb4-4aba-8729-c633277e5558"
      },
      "outputs": [
        {
          "name": "stdout",
          "output_type": "stream",
          "text": [
            "Cloning into 'yolov5'...\n",
            "remote: Enumerating objects: 12776, done.\u001b[K\n",
            "remote: Counting objects: 100% (143/143), done.\u001b[K\n",
            "remote: Compressing objects: 100% (104/104), done.\u001b[K\n",
            "remote: Total 12776 (delta 82), reused 83 (delta 39), pack-reused 12633\u001b[K\n",
            "Receiving objects: 100% (12776/12776), 12.95 MiB | 29.39 MiB/s, done.\n",
            "Resolving deltas: 100% (8796/8796), done.\n",
            "/content/yolov5\n",
            "\u001b[K     |████████████████████████████████| 1.6 MB 4.9 MB/s \n",
            "\u001b[?25h"
          ]
        }
      ],
      "source": [
        "!git clone https://github.com/ultralytics/yolov5\n",
        "%cd yolov5\n",
        "%pip install -qr requirements.txt\n",
        "\n",
        "import torch\n",
        "from IPython.display import Image, clear_output"
      ]
    },
    {
      "cell_type": "markdown",
      "metadata": {
        "id": "X5x90xaW03_Z"
      },
      "source": [
        "### Copy the dataset from your Drive account\n",
        "- WARNING: You should mount your drive account first."
      ]
    },
    {
      "cell_type": "code",
      "execution_count": null,
      "metadata": {
        "id": "g47eEvBjfWGR"
      },
      "outputs": [],
      "source": [
        "!cp /content/drive/MyDrive/DIATTACK/plate_detection/lp_OCR_dataset_v1.zip /content/"
      ]
    },
    {
      "cell_type": "markdown",
      "metadata": {
        "id": "xqI6eG_G1CwI"
      },
      "source": [
        "- Unzip the dataset in \"output\" folder"
      ]
    },
    {
      "cell_type": "code",
      "execution_count": null,
      "metadata": {
        "id": "bwVtYGwzf4oX"
      },
      "outputs": [],
      "source": [
        "!unzip -q /content/lp_OCR_dataset_v1.zip -d /content/output"
      ]
    },
    {
      "cell_type": "markdown",
      "metadata": {
        "id": "MUZCSSGx1Hat"
      },
      "source": [
        "- Integrate WANDB (optional)"
      ]
    },
    {
      "cell_type": "code",
      "execution_count": null,
      "metadata": {
        "id": "7TzxjyE9fgCh"
      },
      "outputs": [],
      "source": [
        "# %pip install -q wandb==0.12.10\n",
        "# !wandb login\n",
        "# import wandb"
      ]
    },
    {
      "cell_type": "markdown",
      "metadata": {
        "id": "Gta4051R1K8_"
      },
      "source": [
        "- Copy the yaml file of the dataset.\n",
        "- (You can prepare it with the yaml_maker.py util.) "
      ]
    },
    {
      "cell_type": "code",
      "execution_count": null,
      "metadata": {
        "id": "7aXy5-DVbwoJ"
      },
      "outputs": [],
      "source": [
        "!cp /content/custom_data.yaml /content/yolov5/data"
      ]
    },
    {
      "cell_type": "code",
      "execution_count": null,
      "metadata": {
        "id": "G6VnEz6NgNWU"
      },
      "outputs": [],
      "source": [
        "!python train.py --img 600 --batch 16 --epochs 100 --data custom_data.yaml --cache --weights yolov5s.pt --noplots"
      ]
    },
    {
      "cell_type": "code",
      "execution_count": null,
      "metadata": {
        "id": "q-Ewl5zLv_el"
      },
      "outputs": [],
      "source": [
        "!cp -r /content/yolov5/runs/train/exp2 /content/drive/MyDrive/DIATTACK/plate_detection/lp_OCR_runs"
      ]
    },
    {
      "cell_type": "markdown",
      "metadata": {
        "id": "5_o52fLhVHDb"
      },
      "source": [
        "# PyTorch Load Model and Detect"
      ]
    },
    {
      "cell_type": "code",
      "execution_count": null,
      "metadata": {
        "id": "83cePTFcVKlB"
      },
      "outputs": [],
      "source": [
        "import cv2\n",
        "import torch\n",
        "from PIL import Image\n",
        "\n",
        "# Model\n",
        "model = torch.hub.load('ultralytics/yolov5', 'yolov5s', pretrained=True).autoshape()  # for PIL/cv2/np inputs and NMS"
      ]
    }
  ],
  "metadata": {
    "accelerator": "GPU",
    "colab": {
      "collapsed_sections": [],
      "provenance": []
    },
    "gpuClass": "standard",
    "kernelspec": {
      "display_name": "base",
      "language": "python",
      "name": "python3"
    },
    "language_info": {
      "name": "python",
      "version": "3.8.13 (default, Mar 28 2022, 06:59:08) [MSC v.1916 64 bit (AMD64)]"
    },
    "vscode": {
      "interpreter": {
        "hash": "cc615f8fa9a83d26fab2405a304dbee89495174b6c63caed719e901ce2732455"
      }
    }
  },
  "nbformat": 4,
  "nbformat_minor": 0
}
